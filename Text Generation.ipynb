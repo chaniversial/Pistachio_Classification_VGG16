{
 "cells": [
  {
   "cell_type": "code",
   "execution_count": 1,
   "id": "a84c4ee1-4c5a-46aa-a586-61295abc154a",
   "metadata": {},
   "outputs": [],
   "source": [
    "import numpy as np\n",
    "from tensorflow.keras.preprocessing.text import Tokenizer\n",
    "from tensorflow.keras.preprocessing.sequence import pad_sequences\n",
    "from tensorflow.keras.utils import to_categorical"
   ]
  },
  {
   "cell_type": "code",
   "execution_count": 2,
   "id": "a0c10229-e2ca-4e80-99af-892af8840f79",
   "metadata": {},
   "outputs": [],
   "source": [
    "text = \"\"\"가는 말이 고와야 오는 말이 곱다\\n\"\"\""
   ]
  },
  {
   "cell_type": "code",
   "execution_count": 3,
   "id": "8d97c9fa-43d9-4903-93f1-c05e72e6eec0",
   "metadata": {},
   "outputs": [
    {
     "name": "stdout",
     "output_type": "stream",
     "text": [
      "단어 집합의 크기 : 6\n"
     ]
    }
   ],
   "source": [
    "tokenizer = Tokenizer()\n",
    "tokenizer.fit_on_texts([text])\n",
    "vocab_size = len(tokenizer.word_index) + 1\n",
    "print('단어 집합의 크기 : %d' % vocab_size)"
   ]
  },
  {
   "cell_type": "code",
   "execution_count": 4,
   "id": "9802d5b3-1624-4fef-ae44-579dca317b6b",
   "metadata": {},
   "outputs": [
    {
     "name": "stdout",
     "output_type": "stream",
     "text": [
      "{'말이': 1, '가는': 2, '고와야': 3, '오는': 4, '곱다': 5}\n"
     ]
    }
   ],
   "source": [
    "print(tokenizer.word_index)"
   ]
  },
  {
   "cell_type": "code",
   "execution_count": 5,
   "id": "5fb64a3f-f0c8-4e33-be9e-08fe10f5b50c",
   "metadata": {},
   "outputs": [
    {
     "name": "stdout",
     "output_type": "stream",
     "text": [
      "학습에 사용할 샘플의 개수: 5\n"
     ]
    }
   ],
   "source": [
    "sequences = list()\n",
    "for line in text.split('\\n'): # 줄바꿈 문자를 기준으로 문장 토큰화\n",
    "    encoded = tokenizer.texts_to_sequences([line])[0]\n",
    "    for i in range(1, len(encoded)):\n",
    "        sequence = encoded[:i+1]\n",
    "        sequences.append(sequence)\n",
    "\n",
    "print('학습에 사용할 샘플의 개수: %d' % len(sequences))"
   ]
  },
  {
   "cell_type": "code",
   "execution_count": 6,
   "id": "f77db2dd-93c7-4afc-a089-f3dadbcc472b",
   "metadata": {},
   "outputs": [
    {
     "name": "stdout",
     "output_type": "stream",
     "text": [
      "[[2, 1], [2, 1, 3], [2, 1, 3, 4], [2, 1, 3, 4, 1], [2, 1, 3, 4, 1, 5]]\n"
     ]
    }
   ],
   "source": [
    "print(sequences)"
   ]
  },
  {
   "cell_type": "code",
   "execution_count": 7,
   "id": "fca69e7d-e4a4-4d07-afa1-f099786faf54",
   "metadata": {},
   "outputs": [
    {
     "name": "stdout",
     "output_type": "stream",
     "text": [
      "샘플의 최대 길이 : 6\n"
     ]
    }
   ],
   "source": [
    "max_len = max(len(l) for l in sequences) # 모든 샘플에서 길이가 가장 긴 샘플의 길이 출력\n",
    "print('샘플의 최대 길이 : {}'.format(max_len))"
   ]
  },
  {
   "cell_type": "code",
   "execution_count": 8,
   "id": "64ff2e0a-da31-48e8-9db4-a6d427d7336e",
   "metadata": {},
   "outputs": [],
   "source": [
    "sequences = pad_sequences(sequences, maxlen=max_len, padding='pre')"
   ]
  },
  {
   "cell_type": "code",
   "execution_count": 9,
   "id": "faac5da8-f360-4f3d-9433-e4ec1e942538",
   "metadata": {},
   "outputs": [
    {
     "data": {
      "text/plain": [
       "array([[0, 0, 0, 0, 2, 1],\n",
       "       [0, 0, 0, 2, 1, 3],\n",
       "       [0, 0, 2, 1, 3, 4],\n",
       "       [0, 2, 1, 3, 4, 1],\n",
       "       [2, 1, 3, 4, 1, 5]], dtype=int32)"
      ]
     },
     "execution_count": 9,
     "metadata": {},
     "output_type": "execute_result"
    }
   ],
   "source": [
    "sequences"
   ]
  },
  {
   "cell_type": "code",
   "execution_count": 10,
   "id": "9960d621-648d-4800-8ff2-527734366487",
   "metadata": {},
   "outputs": [],
   "source": [
    "sequences = np.array(sequences)\n",
    "X = sequences[:,:-1]\n",
    "y = sequences[:,-1]"
   ]
  },
  {
   "cell_type": "code",
   "execution_count": 11,
   "id": "ce44bc6c-fb5f-4975-828e-55e650bcbaf5",
   "metadata": {},
   "outputs": [
    {
     "data": {
      "text/plain": [
       "array([[0, 0, 0, 0, 2],\n",
       "       [0, 0, 0, 2, 1],\n",
       "       [0, 0, 2, 1, 3],\n",
       "       [0, 2, 1, 3, 4],\n",
       "       [2, 1, 3, 4, 1]], dtype=int32)"
      ]
     },
     "execution_count": 11,
     "metadata": {},
     "output_type": "execute_result"
    }
   ],
   "source": [
    "X"
   ]
  },
  {
   "cell_type": "code",
   "execution_count": 12,
   "id": "8c73bf1f-7cf1-4a46-8abf-dded8accbf67",
   "metadata": {},
   "outputs": [
    {
     "data": {
      "text/plain": [
       "array([1, 3, 4, 1, 5], dtype=int32)"
      ]
     },
     "execution_count": 12,
     "metadata": {},
     "output_type": "execute_result"
    }
   ],
   "source": [
    "y"
   ]
  },
  {
   "cell_type": "code",
   "execution_count": 13,
   "id": "0e9ec7ba-1b29-4420-9fdd-277de2e620ca",
   "metadata": {},
   "outputs": [],
   "source": [
    "y = to_categorical(y, num_classes=vocab_size)"
   ]
  },
  {
   "cell_type": "code",
   "execution_count": 14,
   "id": "348c7696-6511-4147-86ae-a2cd3f99df3e",
   "metadata": {},
   "outputs": [
    {
     "data": {
      "text/plain": [
       "array([[0., 1., 0., 0., 0., 0.],\n",
       "       [0., 0., 0., 1., 0., 0.],\n",
       "       [0., 0., 0., 0., 1., 0.],\n",
       "       [0., 1., 0., 0., 0., 0.],\n",
       "       [0., 0., 0., 0., 0., 1.]], dtype=float32)"
      ]
     },
     "execution_count": 14,
     "metadata": {},
     "output_type": "execute_result"
    }
   ],
   "source": [
    "y"
   ]
  },
  {
   "cell_type": "markdown",
   "id": "6508d7cd-bf18-4e04-b7b8-a52f15e54fb9",
   "metadata": {},
   "source": [
    "## 문장을 생성하는 함수"
   ]
  },
  {
   "cell_type": "code",
   "execution_count": 15,
   "id": "faf9827a-1551-4306-a333-ed5f65d15608",
   "metadata": {},
   "outputs": [],
   "source": [
    "from tensorflow.keras.models import Sequential\n",
    "from tensorflow.keras.layers import Embedding, Dense, SimpleRNN"
   ]
  },
  {
   "cell_type": "code",
   "execution_count": 16,
   "id": "5ffdbbee-ca4e-4d5b-a71a-38f4c4367d6b",
   "metadata": {},
   "outputs": [
    {
     "name": "stderr",
     "output_type": "stream",
     "text": [
      "2022-05-21 19:45:39.377975: I tensorflow/stream_executor/cuda/cuda_gpu_executor.cc:936] successful NUMA node read from SysFS had negative value (-1), but there must be at least one NUMA node, so returning NUMA node zero\n",
      "2022-05-21 19:45:39.397532: I tensorflow/stream_executor/cuda/cuda_gpu_executor.cc:936] successful NUMA node read from SysFS had negative value (-1), but there must be at least one NUMA node, so returning NUMA node zero\n",
      "2022-05-21 19:45:39.397633: I tensorflow/stream_executor/cuda/cuda_gpu_executor.cc:936] successful NUMA node read from SysFS had negative value (-1), but there must be at least one NUMA node, so returning NUMA node zero\n",
      "2022-05-21 19:45:39.397991: I tensorflow/core/platform/cpu_feature_guard.cc:151] This TensorFlow binary is optimized with oneAPI Deep Neural Network Library (oneDNN) to use the following CPU instructions in performance-critical operations:  AVX2 AVX512F FMA\n",
      "To enable them in other operations, rebuild TensorFlow with the appropriate compiler flags.\n",
      "2022-05-21 19:45:39.398252: I tensorflow/stream_executor/cuda/cuda_gpu_executor.cc:936] successful NUMA node read from SysFS had negative value (-1), but there must be at least one NUMA node, so returning NUMA node zero\n",
      "2022-05-21 19:45:39.398342: I tensorflow/stream_executor/cuda/cuda_gpu_executor.cc:936] successful NUMA node read from SysFS had negative value (-1), but there must be at least one NUMA node, so returning NUMA node zero\n",
      "2022-05-21 19:45:39.398410: I tensorflow/stream_executor/cuda/cuda_gpu_executor.cc:936] successful NUMA node read from SysFS had negative value (-1), but there must be at least one NUMA node, so returning NUMA node zero\n",
      "2022-05-21 19:45:39.658765: I tensorflow/stream_executor/cuda/cuda_gpu_executor.cc:936] successful NUMA node read from SysFS had negative value (-1), but there must be at least one NUMA node, so returning NUMA node zero\n",
      "2022-05-21 19:45:39.658876: I tensorflow/stream_executor/cuda/cuda_gpu_executor.cc:936] successful NUMA node read from SysFS had negative value (-1), but there must be at least one NUMA node, so returning NUMA node zero\n",
      "2022-05-21 19:45:39.658951: I tensorflow/stream_executor/cuda/cuda_gpu_executor.cc:936] successful NUMA node read from SysFS had negative value (-1), but there must be at least one NUMA node, so returning NUMA node zero\n",
      "2022-05-21 19:45:39.659022: I tensorflow/core/common_runtime/gpu/gpu_device.cc:1525] Created device /job:localhost/replica:0/task:0/device:GPU:0 with 9890 MB memory:  -> device: 0, name: NVIDIA GeForce RTX 3060, pci bus id: 0000:01:00.0, compute capability: 8.6\n"
     ]
    }
   ],
   "source": [
    "embedding_dim = 10\n",
    "hidden_units = 32\n",
    "\n",
    "model = Sequential()\n",
    "model.add(Embedding(vocab_size, embedding_dim))\n",
    "model.add(SimpleRNN(hidden_units))\n",
    "model.add(Dense(vocab_size, activation='softmax'))\n",
    "model.compile(loss='categorical_crossentropy', optimizer='adam', metrics=['accuracy'])\n"
   ]
  },
  {
   "cell_type": "code",
   "execution_count": 20,
   "id": "936f7ac8-d906-4dd6-bdd5-15dbd19b8572",
   "metadata": {},
   "outputs": [
    {
     "name": "stdout",
     "output_type": "stream",
     "text": [
      "Model: \"sequential\"\n",
      "_________________________________________________________________\n",
      " Layer (type)                Output Shape              Param #   \n",
      "=================================================================\n",
      " embedding (Embedding)       (None, None, 10)          60        \n",
      "                                                                 \n",
      " simple_rnn (SimpleRNN)      (None, 32)                1376      \n",
      "                                                                 \n",
      " dense (Dense)               (None, 6)                 198       \n",
      "                                                                 \n",
      "=================================================================\n",
      "Total params: 1,634\n",
      "Trainable params: 1,634\n",
      "Non-trainable params: 0\n",
      "_________________________________________________________________\n"
     ]
    }
   ],
   "source": [
    "model.summary()"
   ]
  },
  {
   "cell_type": "code",
   "execution_count": 17,
   "id": "86d8da06-300d-4f24-a50a-f3f95f80b0e2",
   "metadata": {},
   "outputs": [
    {
     "name": "stdout",
     "output_type": "stream",
     "text": [
      "Epoch 1/200\n",
      "1/1 - 1s - loss: 1.8112 - accuracy: 0.2000 - 906ms/epoch - 906ms/step\n",
      "Epoch 2/200\n",
      "1/1 - 0s - loss: 1.7924 - accuracy: 0.4000 - 3ms/epoch - 3ms/step\n",
      "Epoch 3/200\n",
      "1/1 - 0s - loss: 1.7739 - accuracy: 0.4000 - 3ms/epoch - 3ms/step\n",
      "Epoch 4/200\n",
      "1/1 - 0s - loss: 1.7556 - accuracy: 0.4000 - 3ms/epoch - 3ms/step\n",
      "Epoch 5/200\n",
      "1/1 - 0s - loss: 1.7373 - accuracy: 0.2000 - 3ms/epoch - 3ms/step\n",
      "Epoch 6/200\n",
      "1/1 - 0s - loss: 1.7189 - accuracy: 0.4000 - 3ms/epoch - 3ms/step\n",
      "Epoch 7/200\n",
      "1/1 - 0s - loss: 1.7003 - accuracy: 0.4000 - 3ms/epoch - 3ms/step\n",
      "Epoch 8/200\n",
      "1/1 - 0s - loss: 1.6814 - accuracy: 0.4000 - 3ms/epoch - 3ms/step\n",
      "Epoch 9/200\n",
      "1/1 - 0s - loss: 1.6620 - accuracy: 0.4000 - 3ms/epoch - 3ms/step\n",
      "Epoch 10/200\n",
      "1/1 - 0s - loss: 1.6421 - accuracy: 0.4000 - 3ms/epoch - 3ms/step\n",
      "Epoch 11/200\n",
      "1/1 - 0s - loss: 1.6215 - accuracy: 0.6000 - 3ms/epoch - 3ms/step\n",
      "Epoch 12/200\n",
      "1/1 - 0s - loss: 1.6003 - accuracy: 0.6000 - 3ms/epoch - 3ms/step\n",
      "Epoch 13/200\n",
      "1/1 - 0s - loss: 1.5785 - accuracy: 0.6000 - 3ms/epoch - 3ms/step\n",
      "Epoch 14/200\n",
      "1/1 - 0s - loss: 1.5559 - accuracy: 0.6000 - 3ms/epoch - 3ms/step\n",
      "Epoch 15/200\n",
      "1/1 - 0s - loss: 1.5327 - accuracy: 0.6000 - 3ms/epoch - 3ms/step\n",
      "Epoch 16/200\n",
      "1/1 - 0s - loss: 1.5089 - accuracy: 0.4000 - 3ms/epoch - 3ms/step\n",
      "Epoch 17/200\n",
      "1/1 - 0s - loss: 1.4845 - accuracy: 0.4000 - 3ms/epoch - 3ms/step\n",
      "Epoch 18/200\n",
      "1/1 - 0s - loss: 1.4596 - accuracy: 0.4000 - 3ms/epoch - 3ms/step\n",
      "Epoch 19/200\n",
      "1/1 - 0s - loss: 1.4344 - accuracy: 0.4000 - 3ms/epoch - 3ms/step\n",
      "Epoch 20/200\n",
      "1/1 - 0s - loss: 1.4091 - accuracy: 0.4000 - 3ms/epoch - 3ms/step\n",
      "Epoch 21/200\n",
      "1/1 - 0s - loss: 1.3837 - accuracy: 0.4000 - 3ms/epoch - 3ms/step\n",
      "Epoch 22/200\n",
      "1/1 - 0s - loss: 1.3584 - accuracy: 0.4000 - 3ms/epoch - 3ms/step\n",
      "Epoch 23/200\n",
      "1/1 - 0s - loss: 1.3335 - accuracy: 0.4000 - 3ms/epoch - 3ms/step\n",
      "Epoch 24/200\n",
      "1/1 - 0s - loss: 1.3090 - accuracy: 0.4000 - 3ms/epoch - 3ms/step\n",
      "Epoch 25/200\n",
      "1/1 - 0s - loss: 1.2851 - accuracy: 0.4000 - 3ms/epoch - 3ms/step\n",
      "Epoch 26/200\n",
      "1/1 - 0s - loss: 1.2619 - accuracy: 0.4000 - 3ms/epoch - 3ms/step\n",
      "Epoch 27/200\n",
      "1/1 - 0s - loss: 1.2394 - accuracy: 0.4000 - 3ms/epoch - 3ms/step\n",
      "Epoch 28/200\n",
      "1/1 - 0s - loss: 1.2176 - accuracy: 0.4000 - 3ms/epoch - 3ms/step\n",
      "Epoch 29/200\n",
      "1/1 - 0s - loss: 1.1965 - accuracy: 0.4000 - 3ms/epoch - 3ms/step\n",
      "Epoch 30/200\n",
      "1/1 - 0s - loss: 1.1759 - accuracy: 0.4000 - 3ms/epoch - 3ms/step\n",
      "Epoch 31/200\n",
      "1/1 - 0s - loss: 1.1557 - accuracy: 0.4000 - 3ms/epoch - 3ms/step\n",
      "Epoch 32/200\n",
      "1/1 - 0s - loss: 1.1358 - accuracy: 0.4000 - 3ms/epoch - 3ms/step\n",
      "Epoch 33/200\n",
      "1/1 - 0s - loss: 1.1158 - accuracy: 0.4000 - 3ms/epoch - 3ms/step\n",
      "Epoch 34/200\n",
      "1/1 - 0s - loss: 1.0956 - accuracy: 0.4000 - 3ms/epoch - 3ms/step\n",
      "Epoch 35/200\n",
      "1/1 - 0s - loss: 1.0750 - accuracy: 0.4000 - 3ms/epoch - 3ms/step\n",
      "Epoch 36/200\n",
      "1/1 - 0s - loss: 1.0539 - accuracy: 0.6000 - 3ms/epoch - 3ms/step\n",
      "Epoch 37/200\n",
      "1/1 - 0s - loss: 1.0322 - accuracy: 0.6000 - 3ms/epoch - 3ms/step\n",
      "Epoch 38/200\n",
      "1/1 - 0s - loss: 1.0097 - accuracy: 0.6000 - 3ms/epoch - 3ms/step\n",
      "Epoch 39/200\n",
      "1/1 - 0s - loss: 0.9866 - accuracy: 0.6000 - 3ms/epoch - 3ms/step\n",
      "Epoch 40/200\n",
      "1/1 - 0s - loss: 0.9627 - accuracy: 0.6000 - 3ms/epoch - 3ms/step\n",
      "Epoch 41/200\n",
      "1/1 - 0s - loss: 0.9382 - accuracy: 0.6000 - 3ms/epoch - 3ms/step\n",
      "Epoch 42/200\n",
      "1/1 - 0s - loss: 0.9133 - accuracy: 0.8000 - 3ms/epoch - 3ms/step\n",
      "Epoch 43/200\n",
      "1/1 - 0s - loss: 0.8879 - accuracy: 0.8000 - 3ms/epoch - 3ms/step\n",
      "Epoch 44/200\n",
      "1/1 - 0s - loss: 0.8622 - accuracy: 0.8000 - 3ms/epoch - 3ms/step\n",
      "Epoch 45/200\n",
      "1/1 - 0s - loss: 0.8364 - accuracy: 0.8000 - 3ms/epoch - 3ms/step\n",
      "Epoch 46/200\n",
      "1/1 - 0s - loss: 0.8106 - accuracy: 0.8000 - 3ms/epoch - 3ms/step\n"
     ]
    },
    {
     "name": "stderr",
     "output_type": "stream",
     "text": [
      "2022-05-21 19:45:40.713863: I tensorflow/stream_executor/cuda/cuda_blas.cc:1786] TensorFloat-32 will be used for the matrix multiplication. This will only be logged once.\n"
     ]
    },
    {
     "name": "stdout",
     "output_type": "stream",
     "text": [
      "Epoch 47/200\n",
      "1/1 - 0s - loss: 0.7849 - accuracy: 0.8000 - 3ms/epoch - 3ms/step\n",
      "Epoch 48/200\n",
      "1/1 - 0s - loss: 0.7593 - accuracy: 0.8000 - 3ms/epoch - 3ms/step\n",
      "Epoch 49/200\n",
      "1/1 - 0s - loss: 0.7341 - accuracy: 0.8000 - 3ms/epoch - 3ms/step\n",
      "Epoch 50/200\n",
      "1/1 - 0s - loss: 0.7092 - accuracy: 0.8000 - 3ms/epoch - 3ms/step\n",
      "Epoch 51/200\n",
      "1/1 - 0s - loss: 0.6847 - accuracy: 0.8000 - 3ms/epoch - 3ms/step\n",
      "Epoch 52/200\n",
      "1/1 - 0s - loss: 0.6608 - accuracy: 0.8000 - 3ms/epoch - 3ms/step\n",
      "Epoch 53/200\n",
      "1/1 - 0s - loss: 0.6374 - accuracy: 0.8000 - 3ms/epoch - 3ms/step\n",
      "Epoch 54/200\n",
      "1/1 - 0s - loss: 0.6147 - accuracy: 0.8000 - 4ms/epoch - 4ms/step\n",
      "Epoch 55/200\n",
      "1/1 - 0s - loss: 0.5927 - accuracy: 0.8000 - 3ms/epoch - 3ms/step\n",
      "Epoch 56/200\n",
      "1/1 - 0s - loss: 0.5713 - accuracy: 0.8000 - 3ms/epoch - 3ms/step\n",
      "Epoch 57/200\n",
      "1/1 - 0s - loss: 0.5508 - accuracy: 0.8000 - 3ms/epoch - 3ms/step\n",
      "Epoch 58/200\n",
      "1/1 - 0s - loss: 0.5310 - accuracy: 0.8000 - 3ms/epoch - 3ms/step\n",
      "Epoch 59/200\n",
      "1/1 - 0s - loss: 0.5120 - accuracy: 0.8000 - 3ms/epoch - 3ms/step\n",
      "Epoch 60/200\n",
      "1/1 - 0s - loss: 0.4938 - accuracy: 0.8000 - 3ms/epoch - 3ms/step\n",
      "Epoch 61/200\n",
      "1/1 - 0s - loss: 0.4763 - accuracy: 1.0000 - 3ms/epoch - 3ms/step\n",
      "Epoch 62/200\n",
      "1/1 - 0s - loss: 0.4597 - accuracy: 1.0000 - 3ms/epoch - 3ms/step\n",
      "Epoch 63/200\n",
      "1/1 - 0s - loss: 0.4437 - accuracy: 1.0000 - 3ms/epoch - 3ms/step\n",
      "Epoch 64/200\n",
      "1/1 - 0s - loss: 0.4285 - accuracy: 1.0000 - 3ms/epoch - 3ms/step\n",
      "Epoch 65/200\n",
      "1/1 - 0s - loss: 0.4140 - accuracy: 1.0000 - 3ms/epoch - 3ms/step\n",
      "Epoch 66/200\n",
      "1/1 - 0s - loss: 0.4002 - accuracy: 1.0000 - 3ms/epoch - 3ms/step\n",
      "Epoch 67/200\n",
      "1/1 - 0s - loss: 0.3869 - accuracy: 1.0000 - 3ms/epoch - 3ms/step\n",
      "Epoch 68/200\n",
      "1/1 - 0s - loss: 0.3742 - accuracy: 1.0000 - 3ms/epoch - 3ms/step\n",
      "Epoch 69/200\n",
      "1/1 - 0s - loss: 0.3621 - accuracy: 1.0000 - 3ms/epoch - 3ms/step\n",
      "Epoch 70/200\n",
      "1/1 - 0s - loss: 0.3504 - accuracy: 1.0000 - 3ms/epoch - 3ms/step\n",
      "Epoch 71/200\n",
      "1/1 - 0s - loss: 0.3392 - accuracy: 1.0000 - 3ms/epoch - 3ms/step\n",
      "Epoch 72/200\n",
      "1/1 - 0s - loss: 0.3285 - accuracy: 1.0000 - 3ms/epoch - 3ms/step\n",
      "Epoch 73/200\n",
      "1/1 - 0s - loss: 0.3181 - accuracy: 1.0000 - 3ms/epoch - 3ms/step\n",
      "Epoch 74/200\n",
      "1/1 - 0s - loss: 0.3082 - accuracy: 1.0000 - 3ms/epoch - 3ms/step\n",
      "Epoch 75/200\n",
      "1/1 - 0s - loss: 0.2985 - accuracy: 1.0000 - 3ms/epoch - 3ms/step\n",
      "Epoch 76/200\n",
      "1/1 - 0s - loss: 0.2892 - accuracy: 1.0000 - 3ms/epoch - 3ms/step\n",
      "Epoch 77/200\n",
      "1/1 - 0s - loss: 0.2802 - accuracy: 1.0000 - 3ms/epoch - 3ms/step\n",
      "Epoch 78/200\n",
      "1/1 - 0s - loss: 0.2715 - accuracy: 1.0000 - 3ms/epoch - 3ms/step\n",
      "Epoch 79/200\n",
      "1/1 - 0s - loss: 0.2631 - accuracy: 1.0000 - 3ms/epoch - 3ms/step\n",
      "Epoch 80/200\n",
      "1/1 - 0s - loss: 0.2549 - accuracy: 1.0000 - 3ms/epoch - 3ms/step\n",
      "Epoch 81/200\n",
      "1/1 - 0s - loss: 0.2470 - accuracy: 1.0000 - 3ms/epoch - 3ms/step\n",
      "Epoch 82/200\n",
      "1/1 - 0s - loss: 0.2393 - accuracy: 1.0000 - 3ms/epoch - 3ms/step\n",
      "Epoch 83/200\n",
      "1/1 - 0s - loss: 0.2319 - accuracy: 1.0000 - 3ms/epoch - 3ms/step\n",
      "Epoch 84/200\n",
      "1/1 - 0s - loss: 0.2247 - accuracy: 1.0000 - 3ms/epoch - 3ms/step\n",
      "Epoch 85/200\n",
      "1/1 - 0s - loss: 0.2177 - accuracy: 1.0000 - 3ms/epoch - 3ms/step\n",
      "Epoch 86/200\n",
      "1/1 - 0s - loss: 0.2110 - accuracy: 1.0000 - 3ms/epoch - 3ms/step\n",
      "Epoch 87/200\n",
      "1/1 - 0s - loss: 0.2045 - accuracy: 1.0000 - 3ms/epoch - 3ms/step\n",
      "Epoch 88/200\n",
      "1/1 - 0s - loss: 0.1982 - accuracy: 1.0000 - 3ms/epoch - 3ms/step\n",
      "Epoch 89/200\n",
      "1/1 - 0s - loss: 0.1921 - accuracy: 1.0000 - 3ms/epoch - 3ms/step\n",
      "Epoch 90/200\n",
      "1/1 - 0s - loss: 0.1862 - accuracy: 1.0000 - 3ms/epoch - 3ms/step\n",
      "Epoch 91/200\n",
      "1/1 - 0s - loss: 0.1805 - accuracy: 1.0000 - 3ms/epoch - 3ms/step\n",
      "Epoch 92/200\n",
      "1/1 - 0s - loss: 0.1750 - accuracy: 1.0000 - 3ms/epoch - 3ms/step\n",
      "Epoch 93/200\n",
      "1/1 - 0s - loss: 0.1697 - accuracy: 1.0000 - 3ms/epoch - 3ms/step\n",
      "Epoch 94/200\n",
      "1/1 - 0s - loss: 0.1645 - accuracy: 1.0000 - 3ms/epoch - 3ms/step\n",
      "Epoch 95/200\n",
      "1/1 - 0s - loss: 0.1596 - accuracy: 1.0000 - 3ms/epoch - 3ms/step\n",
      "Epoch 96/200\n",
      "1/1 - 0s - loss: 0.1548 - accuracy: 1.0000 - 3ms/epoch - 3ms/step\n",
      "Epoch 97/200\n",
      "1/1 - 0s - loss: 0.1501 - accuracy: 1.0000 - 3ms/epoch - 3ms/step\n",
      "Epoch 98/200\n",
      "1/1 - 0s - loss: 0.1457 - accuracy: 1.0000 - 3ms/epoch - 3ms/step\n",
      "Epoch 99/200\n",
      "1/1 - 0s - loss: 0.1413 - accuracy: 1.0000 - 3ms/epoch - 3ms/step\n",
      "Epoch 100/200\n",
      "1/1 - 0s - loss: 0.1371 - accuracy: 1.0000 - 3ms/epoch - 3ms/step\n",
      "Epoch 101/200\n",
      "1/1 - 0s - loss: 0.1331 - accuracy: 1.0000 - 3ms/epoch - 3ms/step\n",
      "Epoch 102/200\n",
      "1/1 - 0s - loss: 0.1292 - accuracy: 1.0000 - 3ms/epoch - 3ms/step\n",
      "Epoch 103/200\n",
      "1/1 - 0s - loss: 0.1254 - accuracy: 1.0000 - 3ms/epoch - 3ms/step\n",
      "Epoch 104/200\n",
      "1/1 - 0s - loss: 0.1217 - accuracy: 1.0000 - 3ms/epoch - 3ms/step\n",
      "Epoch 105/200\n",
      "1/1 - 0s - loss: 0.1182 - accuracy: 1.0000 - 3ms/epoch - 3ms/step\n",
      "Epoch 106/200\n",
      "1/1 - 0s - loss: 0.1148 - accuracy: 1.0000 - 3ms/epoch - 3ms/step\n",
      "Epoch 107/200\n",
      "1/1 - 0s - loss: 0.1115 - accuracy: 1.0000 - 3ms/epoch - 3ms/step\n",
      "Epoch 108/200\n",
      "1/1 - 0s - loss: 0.1083 - accuracy: 1.0000 - 3ms/epoch - 3ms/step\n",
      "Epoch 109/200\n",
      "1/1 - 0s - loss: 0.1053 - accuracy: 1.0000 - 3ms/epoch - 3ms/step\n",
      "Epoch 110/200\n",
      "1/1 - 0s - loss: 0.1023 - accuracy: 1.0000 - 3ms/epoch - 3ms/step\n",
      "Epoch 111/200\n",
      "1/1 - 0s - loss: 0.0994 - accuracy: 1.0000 - 3ms/epoch - 3ms/step\n",
      "Epoch 112/200\n",
      "1/1 - 0s - loss: 0.0967 - accuracy: 1.0000 - 3ms/epoch - 3ms/step\n",
      "Epoch 113/200\n",
      "1/1 - 0s - loss: 0.0940 - accuracy: 1.0000 - 3ms/epoch - 3ms/step\n",
      "Epoch 114/200\n",
      "1/1 - 0s - loss: 0.0915 - accuracy: 1.0000 - 3ms/epoch - 3ms/step\n",
      "Epoch 115/200\n",
      "1/1 - 0s - loss: 0.0890 - accuracy: 1.0000 - 3ms/epoch - 3ms/step\n",
      "Epoch 116/200\n",
      "1/1 - 0s - loss: 0.0866 - accuracy: 1.0000 - 3ms/epoch - 3ms/step\n",
      "Epoch 117/200\n",
      "1/1 - 0s - loss: 0.0843 - accuracy: 1.0000 - 3ms/epoch - 3ms/step\n",
      "Epoch 118/200\n",
      "1/1 - 0s - loss: 0.0821 - accuracy: 1.0000 - 3ms/epoch - 3ms/step\n",
      "Epoch 119/200\n",
      "1/1 - 0s - loss: 0.0799 - accuracy: 1.0000 - 3ms/epoch - 3ms/step\n",
      "Epoch 120/200\n",
      "1/1 - 0s - loss: 0.0778 - accuracy: 1.0000 - 3ms/epoch - 3ms/step\n",
      "Epoch 121/200\n",
      "1/1 - 0s - loss: 0.0758 - accuracy: 1.0000 - 3ms/epoch - 3ms/step\n",
      "Epoch 122/200\n",
      "1/1 - 0s - loss: 0.0739 - accuracy: 1.0000 - 3ms/epoch - 3ms/step\n",
      "Epoch 123/200\n",
      "1/1 - 0s - loss: 0.0720 - accuracy: 1.0000 - 3ms/epoch - 3ms/step\n",
      "Epoch 124/200\n",
      "1/1 - 0s - loss: 0.0703 - accuracy: 1.0000 - 3ms/epoch - 3ms/step\n",
      "Epoch 125/200\n",
      "1/1 - 0s - loss: 0.0685 - accuracy: 1.0000 - 3ms/epoch - 3ms/step\n",
      "Epoch 126/200\n",
      "1/1 - 0s - loss: 0.0668 - accuracy: 1.0000 - 3ms/epoch - 3ms/step\n",
      "Epoch 127/200\n",
      "1/1 - 0s - loss: 0.0652 - accuracy: 1.0000 - 3ms/epoch - 3ms/step\n",
      "Epoch 128/200\n",
      "1/1 - 0s - loss: 0.0637 - accuracy: 1.0000 - 3ms/epoch - 3ms/step\n",
      "Epoch 129/200\n",
      "1/1 - 0s - loss: 0.0622 - accuracy: 1.0000 - 3ms/epoch - 3ms/step\n",
      "Epoch 130/200\n",
      "1/1 - 0s - loss: 0.0607 - accuracy: 1.0000 - 3ms/epoch - 3ms/step\n",
      "Epoch 131/200\n",
      "1/1 - 0s - loss: 0.0593 - accuracy: 1.0000 - 3ms/epoch - 3ms/step\n",
      "Epoch 132/200\n",
      "1/1 - 0s - loss: 0.0580 - accuracy: 1.0000 - 3ms/epoch - 3ms/step\n",
      "Epoch 133/200\n",
      "1/1 - 0s - loss: 0.0567 - accuracy: 1.0000 - 3ms/epoch - 3ms/step\n",
      "Epoch 134/200\n",
      "1/1 - 0s - loss: 0.0554 - accuracy: 1.0000 - 3ms/epoch - 3ms/step\n",
      "Epoch 135/200\n",
      "1/1 - 0s - loss: 0.0542 - accuracy: 1.0000 - 3ms/epoch - 3ms/step\n",
      "Epoch 136/200\n",
      "1/1 - 0s - loss: 0.0530 - accuracy: 1.0000 - 3ms/epoch - 3ms/step\n",
      "Epoch 137/200\n",
      "1/1 - 0s - loss: 0.0518 - accuracy: 1.0000 - 3ms/epoch - 3ms/step\n",
      "Epoch 138/200\n",
      "1/1 - 0s - loss: 0.0507 - accuracy: 1.0000 - 3ms/epoch - 3ms/step\n",
      "Epoch 139/200\n",
      "1/1 - 0s - loss: 0.0497 - accuracy: 1.0000 - 3ms/epoch - 3ms/step\n",
      "Epoch 140/200\n",
      "1/1 - 0s - loss: 0.0486 - accuracy: 1.0000 - 3ms/epoch - 3ms/step\n",
      "Epoch 141/200\n",
      "1/1 - 0s - loss: 0.0476 - accuracy: 1.0000 - 3ms/epoch - 3ms/step\n",
      "Epoch 142/200\n",
      "1/1 - 0s - loss: 0.0466 - accuracy: 1.0000 - 3ms/epoch - 3ms/step\n",
      "Epoch 143/200\n",
      "1/1 - 0s - loss: 0.0457 - accuracy: 1.0000 - 3ms/epoch - 3ms/step\n",
      "Epoch 144/200\n",
      "1/1 - 0s - loss: 0.0448 - accuracy: 1.0000 - 3ms/epoch - 3ms/step\n",
      "Epoch 145/200\n",
      "1/1 - 0s - loss: 0.0439 - accuracy: 1.0000 - 3ms/epoch - 3ms/step\n",
      "Epoch 146/200\n",
      "1/1 - 0s - loss: 0.0430 - accuracy: 1.0000 - 3ms/epoch - 3ms/step\n",
      "Epoch 147/200\n",
      "1/1 - 0s - loss: 0.0422 - accuracy: 1.0000 - 3ms/epoch - 3ms/step\n",
      "Epoch 148/200\n",
      "1/1 - 0s - loss: 0.0414 - accuracy: 1.0000 - 3ms/epoch - 3ms/step\n",
      "Epoch 149/200\n",
      "1/1 - 0s - loss: 0.0406 - accuracy: 1.0000 - 3ms/epoch - 3ms/step\n",
      "Epoch 150/200\n",
      "1/1 - 0s - loss: 0.0399 - accuracy: 1.0000 - 3ms/epoch - 3ms/step\n",
      "Epoch 151/200\n",
      "1/1 - 0s - loss: 0.0391 - accuracy: 1.0000 - 3ms/epoch - 3ms/step\n",
      "Epoch 152/200\n",
      "1/1 - 0s - loss: 0.0384 - accuracy: 1.0000 - 3ms/epoch - 3ms/step\n",
      "Epoch 153/200\n",
      "1/1 - 0s - loss: 0.0377 - accuracy: 1.0000 - 3ms/epoch - 3ms/step\n",
      "Epoch 154/200\n",
      "1/1 - 0s - loss: 0.0371 - accuracy: 1.0000 - 3ms/epoch - 3ms/step\n",
      "Epoch 155/200\n",
      "1/1 - 0s - loss: 0.0364 - accuracy: 1.0000 - 3ms/epoch - 3ms/step\n",
      "Epoch 156/200\n",
      "1/1 - 0s - loss: 0.0358 - accuracy: 1.0000 - 3ms/epoch - 3ms/step\n",
      "Epoch 157/200\n",
      "1/1 - 0s - loss: 0.0352 - accuracy: 1.0000 - 3ms/epoch - 3ms/step\n",
      "Epoch 158/200\n",
      "1/1 - 0s - loss: 0.0346 - accuracy: 1.0000 - 3ms/epoch - 3ms/step\n",
      "Epoch 159/200\n",
      "1/1 - 0s - loss: 0.0340 - accuracy: 1.0000 - 3ms/epoch - 3ms/step\n",
      "Epoch 160/200\n",
      "1/1 - 0s - loss: 0.0334 - accuracy: 1.0000 - 3ms/epoch - 3ms/step\n",
      "Epoch 161/200\n",
      "1/1 - 0s - loss: 0.0328 - accuracy: 1.0000 - 3ms/epoch - 3ms/step\n",
      "Epoch 162/200\n",
      "1/1 - 0s - loss: 0.0323 - accuracy: 1.0000 - 3ms/epoch - 3ms/step\n",
      "Epoch 163/200\n",
      "1/1 - 0s - loss: 0.0318 - accuracy: 1.0000 - 3ms/epoch - 3ms/step\n",
      "Epoch 164/200\n",
      "1/1 - 0s - loss: 0.0313 - accuracy: 1.0000 - 3ms/epoch - 3ms/step\n",
      "Epoch 165/200\n",
      "1/1 - 0s - loss: 0.0308 - accuracy: 1.0000 - 3ms/epoch - 3ms/step\n",
      "Epoch 166/200\n",
      "1/1 - 0s - loss: 0.0303 - accuracy: 1.0000 - 3ms/epoch - 3ms/step\n",
      "Epoch 167/200\n",
      "1/1 - 0s - loss: 0.0298 - accuracy: 1.0000 - 3ms/epoch - 3ms/step\n",
      "Epoch 168/200\n",
      "1/1 - 0s - loss: 0.0294 - accuracy: 1.0000 - 3ms/epoch - 3ms/step\n",
      "Epoch 169/200\n",
      "1/1 - 0s - loss: 0.0289 - accuracy: 1.0000 - 3ms/epoch - 3ms/step\n",
      "Epoch 170/200\n",
      "1/1 - 0s - loss: 0.0285 - accuracy: 1.0000 - 3ms/epoch - 3ms/step\n",
      "Epoch 171/200\n",
      "1/1 - 0s - loss: 0.0281 - accuracy: 1.0000 - 3ms/epoch - 3ms/step\n",
      "Epoch 172/200\n",
      "1/1 - 0s - loss: 0.0276 - accuracy: 1.0000 - 3ms/epoch - 3ms/step\n",
      "Epoch 173/200\n",
      "1/1 - 0s - loss: 0.0272 - accuracy: 1.0000 - 3ms/epoch - 3ms/step\n",
      "Epoch 174/200\n",
      "1/1 - 0s - loss: 0.0268 - accuracy: 1.0000 - 3ms/epoch - 3ms/step\n",
      "Epoch 175/200\n",
      "1/1 - 0s - loss: 0.0265 - accuracy: 1.0000 - 3ms/epoch - 3ms/step\n",
      "Epoch 176/200\n",
      "1/1 - 0s - loss: 0.0261 - accuracy: 1.0000 - 3ms/epoch - 3ms/step\n",
      "Epoch 177/200\n",
      "1/1 - 0s - loss: 0.0257 - accuracy: 1.0000 - 3ms/epoch - 3ms/step\n",
      "Epoch 178/200\n",
      "1/1 - 0s - loss: 0.0254 - accuracy: 1.0000 - 3ms/epoch - 3ms/step\n",
      "Epoch 179/200\n",
      "1/1 - 0s - loss: 0.0250 - accuracy: 1.0000 - 3ms/epoch - 3ms/step\n",
      "Epoch 180/200\n",
      "1/1 - 0s - loss: 0.0247 - accuracy: 1.0000 - 3ms/epoch - 3ms/step\n",
      "Epoch 181/200\n",
      "1/1 - 0s - loss: 0.0243 - accuracy: 1.0000 - 3ms/epoch - 3ms/step\n",
      "Epoch 182/200\n",
      "1/1 - 0s - loss: 0.0240 - accuracy: 1.0000 - 3ms/epoch - 3ms/step\n",
      "Epoch 183/200\n",
      "1/1 - 0s - loss: 0.0237 - accuracy: 1.0000 - 3ms/epoch - 3ms/step\n",
      "Epoch 184/200\n",
      "1/1 - 0s - loss: 0.0234 - accuracy: 1.0000 - 3ms/epoch - 3ms/step\n",
      "Epoch 185/200\n",
      "1/1 - 0s - loss: 0.0231 - accuracy: 1.0000 - 3ms/epoch - 3ms/step\n",
      "Epoch 186/200\n",
      "1/1 - 0s - loss: 0.0228 - accuracy: 1.0000 - 3ms/epoch - 3ms/step\n",
      "Epoch 187/200\n",
      "1/1 - 0s - loss: 0.0225 - accuracy: 1.0000 - 3ms/epoch - 3ms/step\n",
      "Epoch 188/200\n",
      "1/1 - 0s - loss: 0.0222 - accuracy: 1.0000 - 3ms/epoch - 3ms/step\n",
      "Epoch 189/200\n",
      "1/1 - 0s - loss: 0.0219 - accuracy: 1.0000 - 3ms/epoch - 3ms/step\n",
      "Epoch 190/200\n",
      "1/1 - 0s - loss: 0.0216 - accuracy: 1.0000 - 3ms/epoch - 3ms/step\n",
      "Epoch 191/200\n",
      "1/1 - 0s - loss: 0.0213 - accuracy: 1.0000 - 3ms/epoch - 3ms/step\n",
      "Epoch 192/200\n",
      "1/1 - 0s - loss: 0.0211 - accuracy: 1.0000 - 3ms/epoch - 3ms/step\n",
      "Epoch 193/200\n",
      "1/1 - 0s - loss: 0.0208 - accuracy: 1.0000 - 3ms/epoch - 3ms/step\n",
      "Epoch 194/200\n",
      "1/1 - 0s - loss: 0.0206 - accuracy: 1.0000 - 3ms/epoch - 3ms/step\n",
      "Epoch 195/200\n",
      "1/1 - 0s - loss: 0.0203 - accuracy: 1.0000 - 3ms/epoch - 3ms/step\n",
      "Epoch 196/200\n",
      "1/1 - 0s - loss: 0.0201 - accuracy: 1.0000 - 3ms/epoch - 3ms/step\n",
      "Epoch 197/200\n",
      "1/1 - 0s - loss: 0.0198 - accuracy: 1.0000 - 3ms/epoch - 3ms/step\n",
      "Epoch 198/200\n",
      "1/1 - 0s - loss: 0.0196 - accuracy: 1.0000 - 3ms/epoch - 3ms/step\n",
      "Epoch 199/200\n",
      "1/1 - 0s - loss: 0.0194 - accuracy: 1.0000 - 3ms/epoch - 3ms/step\n",
      "Epoch 200/200\n",
      "1/1 - 0s - loss: 0.0192 - accuracy: 1.0000 - 3ms/epoch - 3ms/step\n"
     ]
    },
    {
     "data": {
      "text/plain": [
       "<keras.callbacks.History at 0x7f9a74a3afd0>"
      ]
     },
     "execution_count": 17,
     "metadata": {},
     "output_type": "execute_result"
    }
   ],
   "source": [
    "model.fit(X, y, epochs=200, verbose=2)"
   ]
  },
  {
   "cell_type": "code",
   "execution_count": 18,
   "id": "a01ae3d6-6cf6-4714-90d4-8ddcebe95eb9",
   "metadata": {},
   "outputs": [],
   "source": [
    "def sentence_generation(model, tokenizer, current_word, n): # 모델, 토크나이저, 현재 단어, 반복할 횟수\n",
    "    init_word = current_word\n",
    "    sentence = ''\n",
    "\n",
    "    # n번 반복\n",
    "    for _ in range(n):\n",
    "        # 현재 단어에 대한 정수 인코딩과 패딩\n",
    "        encoded = tokenizer.texts_to_sequences([current_word])[0]\n",
    "        encoded = pad_sequences([encoded], maxlen=5, padding='pre')\n",
    "        # 입력한 X(현재 단어)에 대해서 Y를 예측하고 Y(예측한 단어)를 result에 저장.\n",
    "        result = model.predict(encoded, verbose=0)\n",
    "        result = np.argmax(result, axis=1)\n",
    "\n",
    "        for word, index in tokenizer.word_index.items(): \n",
    "            # 만약 예측한 단어와 인덱스와 동일한 단어가 있다면 break\n",
    "            if index == result:\n",
    "                break\n",
    "\n",
    "        # 현재 단어 + ' ' + 예측 단어를 현재 단어로 변경\n",
    "        current_word = current_word + ' '  + word\n",
    "\n",
    "        # 예측 단어를 문장에 저장\n",
    "        sentence = sentence + ' ' + word\n",
    "\n",
    "    sentence = init_word + sentence\n",
    "    return sentence"
   ]
  },
  {
   "cell_type": "code",
   "execution_count": 19,
   "id": "f0eda038-b02b-447f-a605-69707f21acb3",
   "metadata": {},
   "outputs": [
    {
     "name": "stdout",
     "output_type": "stream",
     "text": [
      "가는 말이 고와야 오는 말이 곱다\n"
     ]
    }
   ],
   "source": [
    "print(sentence_generation(model, tokenizer, '가는', 5))"
   ]
  },
  {
   "cell_type": "code",
   "execution_count": null,
   "id": "8f66b2c1-4d6a-44c3-b707-ac26a2d0e7a3",
   "metadata": {},
   "outputs": [],
   "source": []
  }
 ],
 "metadata": {
  "kernelspec": {
   "display_name": "Python 3 (ipykernel)",
   "language": "python",
   "name": "python3"
  },
  "language_info": {
   "codemirror_mode": {
    "name": "ipython",
    "version": 3
   },
   "file_extension": ".py",
   "mimetype": "text/x-python",
   "name": "python",
   "nbconvert_exporter": "python",
   "pygments_lexer": "ipython3",
   "version": "3.7.5"
  }
 },
 "nbformat": 4,
 "nbformat_minor": 5
}
